{
 "cells": [
  {
   "cell_type": "code",
   "execution_count": 1,
   "id": "54c89fee",
   "metadata": {},
   "outputs": [],
   "source": [
    "import pandas as pd\n",
    "import glob\n",
    "import os"
   ]
  },
  {
   "cell_type": "code",
   "execution_count": 2,
   "id": "59be8916",
   "metadata": {},
   "outputs": [],
   "source": [
    "def borrarORG(df, iata, lista1):\n",
    "    if iata in lista1:\n",
    "            df.loc[df[\"Nombre Solicitante\"] == \"ORG COURIER ARG\", \"Ruta Virtual\"] = 700\n",
    "    else:\n",
    "        print(\"error\")\n",
    "    return df"
   ]
  },
  {
   "cell_type": "code",
   "execution_count": 3,
   "id": "fbf06a06",
   "metadata": {},
   "outputs": [],
   "source": [
    "def borrarMHTML():\n",
    "    while True:\n",
    "        pregunta = input(\"queres borrar los archivos MHTML?: S/N \").lower()\n",
    "        if pregunta == \"s\":\n",
    "            encontrar = glob.glob(\"*MHTML\")\n",
    "            if not encontrar:\n",
    "                print(\"no hay archivos MHTML\")\n",
    "            else:\n",
    "                for archivo in encontrar:\n",
    "                    os.remove(archivo)\n",
    "            break\n",
    "        if pregunta == \"n\":\n",
    "            print(\"no se borraron archivos\")\n",
    "            break\n",
    "        else:\n",
    "            print(\"Ingresa 's' o 'n'\")"
   ]
  },
  {
   "cell_type": "code",
   "execution_count": 4,
   "id": "31f6d7a6",
   "metadata": {},
   "outputs": [],
   "source": [
    "def ejecutarExcelFinalizado(iata):\n",
    "    os.startfile(f\"archivoUnificado{iata}.xlsx\")"
   ]
  },
  {
   "cell_type": "code",
   "execution_count": 5,
   "id": "e761c847",
   "metadata": {},
   "outputs": [],
   "source": [
    "def manipularDatos(df, iata):\n",
    "    # filtrar columnas\n",
    "    df = df [\n",
    "        (df[\"Motivo Descripción\"] != \"Retirado\") & \n",
    "        (df[\"Motivo Descripción\"] != \"Entregado\") &\n",
    "        (df[\"Destino\"] == iata)\n",
    "    ].copy()\n",
    "\n",
    "    # agregar valores\n",
    "    df.loc[df[\"Peso del objeto\"] >= 200, \"Ruta Virtual\"] = 503\n",
    "    df.loc[df[\"Volumen\"] >= 1.5, \"Ruta Virtual\"] = 503\n",
    "\n",
    "    #limpiar columnas\n",
    "    df[\"Distrito Destino\"] = \"\"\n",
    "    df[\"Provincia\"] = \"\"\n",
    "\n",
    "    #duplicados = df.duplicated(subset= \"Nro. identificación pieza según cliente\", keep = False)\n",
    "    return df"
   ]
  },
  {
   "cell_type": "code",
   "execution_count": 6,
   "id": "8b52639a",
   "metadata": {},
   "outputs": [
    {
     "name": "stdout",
     "output_type": "stream",
     "text": [
      "error intente nuevametne\n"
     ]
    }
   ],
   "source": [
    "def main():\n",
    "    while True:\n",
    "        iata = input(\"Ingresa el codigo IATA: \").upper()\n",
    "        if len(iata) == 3:\n",
    "            break\n",
    "        else:\n",
    "            print(\"error intente nuevametne\")\n",
    "\n",
    "    lista1 = [\"CRD\",\"LUQ\"]\n",
    "\n",
    "    if iata == \"fma\".upper():\n",
    "        encontrar = glob.glob(\"*xlsx\")\n",
    "        lista = []\n",
    "        for archivo in encontrar:\n",
    "            leer = pd.read_excel(archivo)\n",
    "            lista.append(leer)\n",
    "\n",
    "        df = pd.concat(lista, ignore_index=True)\n",
    "        df = manipularDatos(df, iata)\n",
    "        df = borrarORG(df, iata, lista1)\n",
    "        df.to_excel(f\"archivoUnificado{iata}.xlsx\", index=False)\n",
    "\n",
    "        borrarMHTML()\n",
    "        ejecutarExcelFinalizado(iata)\n",
    "\n",
    "    if iata in lista1:\n",
    "        encontrar = glob.glob(\"*xlsx\")\n",
    "        lista = []\n",
    "        for archivo in encontrar:\n",
    "            leer = pd.read_excel(archivo)\n",
    "            lista.append(leer)\n",
    "\n",
    "        df = pd.concat(lista, ignore_index=True)\n",
    "        df = manipularDatos(df, iata)\n",
    "        df = borrarORG(df, iata, lista1)\n",
    "        df.to_excel(f\"archivoUnificado{iata}.xlsx\", index=False)\n",
    "\n",
    "        borrarMHTML()\n",
    "        ejecutarExcelFinalizado(iata)\n",
    "\n",
    "if __name__ == \"__main__\": \n",
    "    main()"
   ]
  }
 ],
 "metadata": {
  "kernelspec": {
   "display_name": "Python 3",
   "language": "python",
   "name": "python3"
  },
  "language_info": {
   "codemirror_mode": {
    "name": "ipython",
    "version": 3
   },
   "file_extension": ".py",
   "mimetype": "text/x-python",
   "name": "python",
   "nbconvert_exporter": "python",
   "pygments_lexer": "ipython3",
   "version": "3.13.2"
  }
 },
 "nbformat": 4,
 "nbformat_minor": 5
}
