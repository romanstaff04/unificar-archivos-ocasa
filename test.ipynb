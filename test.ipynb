{
 "cells": [
  {
   "cell_type": "code",
   "execution_count": 1,
   "id": "54c89fee",
   "metadata": {},
   "outputs": [],
   "source": [
    "import pandas as pd\n",
    "import glob\n",
    "import os"
   ]
  },
  {
   "cell_type": "code",
   "execution_count": 9,
   "id": "59be8916",
   "metadata": {},
   "outputs": [],
   "source": [
    "def borrarORG(df, iata):\n",
    "    if iata == \"crd\".upper():\n",
    "            df.loc[df[\"Nombre Solicitante\"] == \"ORG COURIER ARG\", \"Ruta Virtual\"] = 700\n",
    "    elif iata == \"luq\".upper():\n",
    "        df.loc[df[\"Nombre Solicitante\"] == \"ORG COURIER ARG\", \"Ruta Virtual\"] = 700\n",
    "    elif iata == \"irj\".upper():\n",
    "        pass\n",
    "    else:\n",
    "        print(\"error\")\n",
    "    return df"
   ]
  },
  {
   "cell_type": "code",
   "execution_count": 4,
   "id": "fbf06a06",
   "metadata": {},
   "outputs": [],
   "source": [
    "def borrarMHTML():\n",
    "    while True:\n",
    "        pregunta = input(\"queres borrar los archivos MHTML?: S/N \").lower()\n",
    "        if pregunta == \"s\":\n",
    "            encontrar = glob.glob(\"*MHTML\")\n",
    "            if not encontrar:\n",
    "                print(\"no hay archivos MHTML\")\n",
    "            else:\n",
    "                for archivo in encontrar:\n",
    "                    os.remove(archivo)\n",
    "            break\n",
    "        if pregunta == \"n\":\n",
    "            print(\"no se borraron archivos\")\n",
    "            break\n",
    "        else:\n",
    "            print(\"Ingresa 's' o 'n'\")"
   ]
  },
  {
   "cell_type": "code",
   "execution_count": 5,
   "id": "31f6d7a6",
   "metadata": {},
   "outputs": [],
   "source": [
    "def ejecutarExcelFinalizado(iata):\n",
    "    os.startfile(f\"archivoUnificado{iata}.xlsx\")"
   ]
  },
  {
   "cell_type": "code",
   "execution_count": 6,
   "id": "e761c847",
   "metadata": {},
   "outputs": [],
   "source": [
    "def manipularDatos(df, iata):\n",
    "    # filtrar columnas\n",
    "    df = df [\n",
    "        (df[\"Motivo Descripción\"] != \"Retirado\") & \n",
    "        (df[\"Motivo Descripción\"] != \"Entregado\") &\n",
    "        (df[\"Destino\"] == iata)\n",
    "    ].copy()\n",
    "\n",
    "    # agregar valores\n",
    "    df.loc[df[\"Peso del objeto\"] >= 200, \"Ruta Virtual\"] = 503\n",
    "    df.loc[df[\"Volumen\"] >= 1.5, \"Ruta Virtual\"] = 503\n",
    "\n",
    "    #limpiar columnas\n",
    "    df[\"Distrito Destino\"] = \"\"\n",
    "    df[\"Provincia\"] = \"\"\n",
    "\n",
    "    duplicados = df.duplicated(subset= \"Nro. identificación pieza según cliente\", keep = False)\n",
    "    return df, duplicados"
   ]
  },
  {
   "cell_type": "code",
   "execution_count": 7,
   "id": "8b52639a",
   "metadata": {},
   "outputs": [
    {
     "ename": "FileNotFoundError",
     "evalue": "[Errno 2] No such file or directory: 'archivoDePrueba.xlsx'",
     "output_type": "error",
     "traceback": [
      "\u001b[31m---------------------------------------------------------------------------\u001b[39m",
      "\u001b[31mFileNotFoundError\u001b[39m                         Traceback (most recent call last)",
      "\u001b[36mCell\u001b[39m\u001b[36m \u001b[39m\u001b[32mIn[7]\u001b[39m\u001b[32m, line 57\u001b[39m\n\u001b[32m     54\u001b[39m         \u001b[38;5;28mprint\u001b[39m(\u001b[33m\"\u001b[39m\u001b[33merror\u001b[39m\u001b[33m\"\u001b[39m)\n\u001b[32m     55\u001b[39m \u001b[38;5;28;01mif\u001b[39;00m \u001b[34m__name__\u001b[39m == \u001b[33m\"\u001b[39m\u001b[33m__main__\u001b[39m\u001b[33m\"\u001b[39m: \n\u001b[32m     56\u001b[39m     \u001b[38;5;66;03m#main()\u001b[39;00m\n\u001b[32m---> \u001b[39m\u001b[32m57\u001b[39m     df = \u001b[43mpd\u001b[49m\u001b[43m.\u001b[49m\u001b[43mread_excel\u001b[49m\u001b[43m(\u001b[49m\u001b[33;43m\"\u001b[39;49m\u001b[33;43marchivoDePrueba.xlsx\u001b[39;49m\u001b[33;43m\"\u001b[39;49m\u001b[43m)\u001b[49m\n\u001b[32m     58\u001b[39m     df_filtrado, duplicados = manipularDatos(df, \u001b[33m\"\u001b[39m\u001b[33mLUQ\u001b[39m\u001b[33m\"\u001b[39m)\n\u001b[32m     59\u001b[39m     \u001b[38;5;28mprint\u001b[39m(df_filtrado.head())\n",
      "\u001b[36mFile \u001b[39m\u001b[32mc:\\Users\\rstaffolani\\AppData\\Local\\Programs\\Python\\Python313\\Lib\\site-packages\\pandas\\io\\excel\\_base.py:495\u001b[39m, in \u001b[36mread_excel\u001b[39m\u001b[34m(io, sheet_name, header, names, index_col, usecols, dtype, engine, converters, true_values, false_values, skiprows, nrows, na_values, keep_default_na, na_filter, verbose, parse_dates, date_parser, date_format, thousands, decimal, comment, skipfooter, storage_options, dtype_backend, engine_kwargs)\u001b[39m\n\u001b[32m    493\u001b[39m \u001b[38;5;28;01mif\u001b[39;00m \u001b[38;5;129;01mnot\u001b[39;00m \u001b[38;5;28misinstance\u001b[39m(io, ExcelFile):\n\u001b[32m    494\u001b[39m     should_close = \u001b[38;5;28;01mTrue\u001b[39;00m\n\u001b[32m--> \u001b[39m\u001b[32m495\u001b[39m     io = \u001b[43mExcelFile\u001b[49m\u001b[43m(\u001b[49m\n\u001b[32m    496\u001b[39m \u001b[43m        \u001b[49m\u001b[43mio\u001b[49m\u001b[43m,\u001b[49m\n\u001b[32m    497\u001b[39m \u001b[43m        \u001b[49m\u001b[43mstorage_options\u001b[49m\u001b[43m=\u001b[49m\u001b[43mstorage_options\u001b[49m\u001b[43m,\u001b[49m\n\u001b[32m    498\u001b[39m \u001b[43m        \u001b[49m\u001b[43mengine\u001b[49m\u001b[43m=\u001b[49m\u001b[43mengine\u001b[49m\u001b[43m,\u001b[49m\n\u001b[32m    499\u001b[39m \u001b[43m        \u001b[49m\u001b[43mengine_kwargs\u001b[49m\u001b[43m=\u001b[49m\u001b[43mengine_kwargs\u001b[49m\u001b[43m,\u001b[49m\n\u001b[32m    500\u001b[39m \u001b[43m    \u001b[49m\u001b[43m)\u001b[49m\n\u001b[32m    501\u001b[39m \u001b[38;5;28;01melif\u001b[39;00m engine \u001b[38;5;129;01mand\u001b[39;00m engine != io.engine:\n\u001b[32m    502\u001b[39m     \u001b[38;5;28;01mraise\u001b[39;00m \u001b[38;5;167;01mValueError\u001b[39;00m(\n\u001b[32m    503\u001b[39m         \u001b[33m\"\u001b[39m\u001b[33mEngine should not be specified when passing \u001b[39m\u001b[33m\"\u001b[39m\n\u001b[32m    504\u001b[39m         \u001b[33m\"\u001b[39m\u001b[33man ExcelFile - ExcelFile already has the engine set\u001b[39m\u001b[33m\"\u001b[39m\n\u001b[32m    505\u001b[39m     )\n",
      "\u001b[36mFile \u001b[39m\u001b[32mc:\\Users\\rstaffolani\\AppData\\Local\\Programs\\Python\\Python313\\Lib\\site-packages\\pandas\\io\\excel\\_base.py:1550\u001b[39m, in \u001b[36mExcelFile.__init__\u001b[39m\u001b[34m(self, path_or_buffer, engine, storage_options, engine_kwargs)\u001b[39m\n\u001b[32m   1548\u001b[39m     ext = \u001b[33m\"\u001b[39m\u001b[33mxls\u001b[39m\u001b[33m\"\u001b[39m\n\u001b[32m   1549\u001b[39m \u001b[38;5;28;01melse\u001b[39;00m:\n\u001b[32m-> \u001b[39m\u001b[32m1550\u001b[39m     ext = \u001b[43minspect_excel_format\u001b[49m\u001b[43m(\u001b[49m\n\u001b[32m   1551\u001b[39m \u001b[43m        \u001b[49m\u001b[43mcontent_or_path\u001b[49m\u001b[43m=\u001b[49m\u001b[43mpath_or_buffer\u001b[49m\u001b[43m,\u001b[49m\u001b[43m \u001b[49m\u001b[43mstorage_options\u001b[49m\u001b[43m=\u001b[49m\u001b[43mstorage_options\u001b[49m\n\u001b[32m   1552\u001b[39m \u001b[43m    \u001b[49m\u001b[43m)\u001b[49m\n\u001b[32m   1553\u001b[39m     \u001b[38;5;28;01mif\u001b[39;00m ext \u001b[38;5;129;01mis\u001b[39;00m \u001b[38;5;28;01mNone\u001b[39;00m:\n\u001b[32m   1554\u001b[39m         \u001b[38;5;28;01mraise\u001b[39;00m \u001b[38;5;167;01mValueError\u001b[39;00m(\n\u001b[32m   1555\u001b[39m             \u001b[33m\"\u001b[39m\u001b[33mExcel file format cannot be determined, you must specify \u001b[39m\u001b[33m\"\u001b[39m\n\u001b[32m   1556\u001b[39m             \u001b[33m\"\u001b[39m\u001b[33man engine manually.\u001b[39m\u001b[33m\"\u001b[39m\n\u001b[32m   1557\u001b[39m         )\n",
      "\u001b[36mFile \u001b[39m\u001b[32mc:\\Users\\rstaffolani\\AppData\\Local\\Programs\\Python\\Python313\\Lib\\site-packages\\pandas\\io\\excel\\_base.py:1402\u001b[39m, in \u001b[36minspect_excel_format\u001b[39m\u001b[34m(content_or_path, storage_options)\u001b[39m\n\u001b[32m   1399\u001b[39m \u001b[38;5;28;01mif\u001b[39;00m \u001b[38;5;28misinstance\u001b[39m(content_or_path, \u001b[38;5;28mbytes\u001b[39m):\n\u001b[32m   1400\u001b[39m     content_or_path = BytesIO(content_or_path)\n\u001b[32m-> \u001b[39m\u001b[32m1402\u001b[39m \u001b[38;5;28;01mwith\u001b[39;00m \u001b[43mget_handle\u001b[49m\u001b[43m(\u001b[49m\n\u001b[32m   1403\u001b[39m \u001b[43m    \u001b[49m\u001b[43mcontent_or_path\u001b[49m\u001b[43m,\u001b[49m\u001b[43m \u001b[49m\u001b[33;43m\"\u001b[39;49m\u001b[33;43mrb\u001b[39;49m\u001b[33;43m\"\u001b[39;49m\u001b[43m,\u001b[49m\u001b[43m \u001b[49m\u001b[43mstorage_options\u001b[49m\u001b[43m=\u001b[49m\u001b[43mstorage_options\u001b[49m\u001b[43m,\u001b[49m\u001b[43m \u001b[49m\u001b[43mis_text\u001b[49m\u001b[43m=\u001b[49m\u001b[38;5;28;43;01mFalse\u001b[39;49;00m\n\u001b[32m   1404\u001b[39m \u001b[43m\u001b[49m\u001b[43m)\u001b[49m \u001b[38;5;28;01mas\u001b[39;00m handle:\n\u001b[32m   1405\u001b[39m     stream = handle.handle\n\u001b[32m   1406\u001b[39m     stream.seek(\u001b[32m0\u001b[39m)\n",
      "\u001b[36mFile \u001b[39m\u001b[32mc:\\Users\\rstaffolani\\AppData\\Local\\Programs\\Python\\Python313\\Lib\\site-packages\\pandas\\io\\common.py:882\u001b[39m, in \u001b[36mget_handle\u001b[39m\u001b[34m(path_or_buf, mode, encoding, compression, memory_map, is_text, errors, storage_options)\u001b[39m\n\u001b[32m    873\u001b[39m         handle = \u001b[38;5;28mopen\u001b[39m(\n\u001b[32m    874\u001b[39m             handle,\n\u001b[32m    875\u001b[39m             ioargs.mode,\n\u001b[32m   (...)\u001b[39m\u001b[32m    878\u001b[39m             newline=\u001b[33m\"\u001b[39m\u001b[33m\"\u001b[39m,\n\u001b[32m    879\u001b[39m         )\n\u001b[32m    880\u001b[39m     \u001b[38;5;28;01melse\u001b[39;00m:\n\u001b[32m    881\u001b[39m         \u001b[38;5;66;03m# Binary mode\u001b[39;00m\n\u001b[32m--> \u001b[39m\u001b[32m882\u001b[39m         handle = \u001b[38;5;28;43mopen\u001b[39;49m\u001b[43m(\u001b[49m\u001b[43mhandle\u001b[49m\u001b[43m,\u001b[49m\u001b[43m \u001b[49m\u001b[43mioargs\u001b[49m\u001b[43m.\u001b[49m\u001b[43mmode\u001b[49m\u001b[43m)\u001b[49m\n\u001b[32m    883\u001b[39m     handles.append(handle)\n\u001b[32m    885\u001b[39m \u001b[38;5;66;03m# Convert BytesIO or file objects passed with an encoding\u001b[39;00m\n",
      "\u001b[31mFileNotFoundError\u001b[39m: [Errno 2] No such file or directory: 'archivoDePrueba.xlsx'"
     ]
    }
   ],
   "source": [
    "def main():\n",
    "    while True:\n",
    "        iata = input(\"Ingresa el codigo IATA: \").upper()\n",
    "        if len(iata) == 3:\n",
    "            break\n",
    "        else:\n",
    "            print(\"error intente nuevametne\")\n",
    "\n",
    "    if iata == \"crd\".upper(): #listo\n",
    "        encontrar = glob.glob(\"*xlsx\")\n",
    "        lista = []\n",
    "        for archivo in encontrar:\n",
    "            leer = pd.read_excel(archivo)\n",
    "            lista.append(leer)\n",
    "        \n",
    "        df = pd.concat(lista, ignore_index=True)\n",
    "        df, duplicados  = manipularDatos(df, iata)\n",
    "        df = borrarORG(df, iata)  \n",
    "        \n",
    "        df.to_excel(f\"archivoUnificado{iata}.xlsx\", index=False)\n",
    "        #marcarDuplicadosEnExcel(f\"archivoUnificado{iata}.xlsx\", duplicados)\n",
    "        borrarMHTML()\n",
    "        ejecutarExcelFinalizado(iata)\n",
    "\n",
    "    elif iata == \"luq\".upper(): # listo\n",
    "        encontrar = glob.glob(\"*xlsx\")\n",
    "        lista = []\n",
    "        for archivo in encontrar:\n",
    "            leer = pd.read_excel(archivo)\n",
    "            lista.append(leer)\n",
    "        \n",
    "        df = pd.concat(lista, ignore_index=True)\n",
    "        df, duplicados  = manipularDatos(df, iata)\n",
    "        df = borrarORG(df, iata)  \n",
    "        \n",
    "        df.to_excel(f\"archivoUnificado{iata}.xlsx\", index=False)\n",
    "        #marcarDuplicadosEnExcel(f\"archivoUnificado{iata}.xlsx\", duplicados)\n",
    "        borrarMHTML()\n",
    "        ejecutarExcelFinalizado(iata)\n",
    "\n",
    "    elif iata == \"irj\".upper(): #AGREGAR VALORES DUPLICADOS\n",
    "        encontrar = glob.glob(\"*xlsx\")\n",
    "        lista = []\n",
    "        for archivo in encontrar:\n",
    "            leer = pd.read_excel(archivo)\n",
    "            lista.append(leer)\n",
    "        df = pd.concat(lista, ignore_index=True)\n",
    "        df[\"Distrito Destino\"] = \"\"\n",
    "        df[\"Provincia\"] = \"\"\n",
    "        df.to_excel(f\"archivoUnificado{iata}.xlsx\", index=False)\n",
    "        borrarMHTML()\n",
    "        ejecutarExcelFinalizado(iata)\n",
    "    else:\n",
    "        print(\"error\")\n",
    "if __name__ == \"__main__\": \n",
    "    #main()\n",
    "    df = pd.read_excel(\"archivoDePrueba.xlsx\")\n",
    "    df_filtrado, duplicados = manipularDatos(df, \"LUQ\")\n",
    "    print(df_filtrado.head())"
   ]
  }
 ],
 "metadata": {
  "kernelspec": {
   "display_name": "Python 3",
   "language": "python",
   "name": "python3"
  },
  "language_info": {
   "codemirror_mode": {
    "name": "ipython",
    "version": 3
   },
   "file_extension": ".py",
   "mimetype": "text/x-python",
   "name": "python",
   "nbconvert_exporter": "python",
   "pygments_lexer": "ipython3",
   "version": "3.13.2"
  }
 },
 "nbformat": 4,
 "nbformat_minor": 5
}
