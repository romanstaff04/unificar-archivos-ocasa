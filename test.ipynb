{
 "cells": [
  {
   "cell_type": "code",
   "execution_count": 141,
   "id": "54c89fee",
   "metadata": {},
   "outputs": [],
   "source": [
    "import pandas as pd\n",
    "import glob\n",
    "import os"
   ]
  },
  {
   "cell_type": "code",
   "execution_count": 142,
   "id": "59be8916",
   "metadata": {},
   "outputs": [],
   "source": [
    "def orgCourier(df, iata, lista1):\n",
    "    if iata in lista1:\n",
    "            df.loc[df[\"Nombre Solicitante\"] == \"ORG COURIER ARG\", \"Ruta Virtual\"] = 700\n",
    "    else:\n",
    "        print(\"error\")\n",
    "    return df"
   ]
  },
  {
   "cell_type": "code",
   "execution_count": 143,
   "id": "fbf06a06",
   "metadata": {},
   "outputs": [],
   "source": [
    "def borrarMHTML():\n",
    "    while True:\n",
    "        pregunta = input(\"queres borrar los archivos MHTML?: S/N \").lower()\n",
    "        if pregunta == \"s\":\n",
    "            encontrar = glob.glob(\"*MHTML\")\n",
    "            if not encontrar:\n",
    "                print(\"no hay archivos MHTML\")\n",
    "            else:\n",
    "                for archivo in encontrar:\n",
    "                    os.remove(archivo)\n",
    "            break\n",
    "        if pregunta == \"n\":\n",
    "            print(\"no se borraron archivos\")\n",
    "            break\n",
    "        else:\n",
    "            print(\"Ingresa 's' o 'n'\")"
   ]
  },
  {
   "cell_type": "code",
   "execution_count": 144,
   "id": "31f6d7a6",
   "metadata": {},
   "outputs": [],
   "source": [
    "def ejecutarExcelFinalizado(iata):\n",
    "    os.startfile(f\"archivoUnificado{iata}.xlsx\")"
   ]
  },
  {
   "cell_type": "code",
   "execution_count": 145,
   "id": "e761c847",
   "metadata": {},
   "outputs": [],
   "source": [
    "def manipularDatos(df, iata):\n",
    "    # filtrar columnas\n",
    "    df = df [\n",
    "        (df[\"Motivo Descripción\"] != \"Retirado\") & \n",
    "        (df[\"Motivo Descripción\"] != \"Entregado\") &\n",
    "        (df[\"Destino\"] == iata)\n",
    "    ].copy()\n",
    "\n",
    "    # agregar valores\n",
    "    df.loc[df[\"Peso del objeto\"] >= 200, \"Ruta Virtual\"] = 503\n",
    "    df.loc[df[\"Volumen\"] >= 0.7, \"Ruta Virtual\"] = 503\n",
    "\n",
    "    #limpiar columnas\n",
    "    df[\"Distrito Destino\"] = \"\"\n",
    "    df[\"Provincia\"] = \"\"\n",
    "\n",
    "    #duplicados = df.duplicated(subset= \"Nro. identificación pieza según cliente\", keep = False)\n",
    "    return df"
   ]
  },
  {
   "cell_type": "code",
   "execution_count": 146,
   "id": "d8b449d2",
   "metadata": {},
   "outputs": [],
   "source": [
    "def canalizadorLocalidad(df, iata):\n",
    "    # --- MERGE con CANALIZADOR para que traiga la localidad ---\n",
    "        canalizadorLocalidad = pd.read_excel(\"CANALIZADOR MADRE.xlsx\")\n",
    "        canalizador_reducidoLocalidad = canalizadorLocalidad[[\"CP Destino\", \"Distrito Destino\"]]\n",
    "\n",
    "        #elimina la columna distrito destino original para luego reemplazarla por el merge-\n",
    "        df = df.drop(columns=[\"Distrito Destino\"], errors=\"ignore\")\n",
    "        merge = pd.merge(df, canalizador_reducidoLocalidad, on=\"CP Destino\", how=\"left\")\n",
    "\n",
    "        # Insertar \"Distrito Destino\" después de \"Altura\"\n",
    "        columna_referencia = \"Altura\"\n",
    "        if columna_referencia in merge.columns:\n",
    "            indice_destino = merge.columns.get_loc(columna_referencia) + 1\n",
    "            columna_valores = merge.pop(\"Distrito Destino\")\n",
    "            merge.insert(indice_destino, \"Distrito Destino\", columna_valores)\n",
    "        else:\n",
    "            print(f\"Advertencia: no se encontró la columna '{columna_referencia}' para ubicar 'Distrito Destino'. Se dejó al final.\")\n",
    "        return merge"
   ]
  },
  {
   "cell_type": "code",
   "execution_count": 147,
   "id": "f0848e59",
   "metadata": {},
   "outputs": [],
   "source": [
    "def canalizadorProvincia(df, iata):\n",
    "    # --- MERGE con CANALIZADOR para que traiga la provincia ---\n",
    "        canalizadorProvincia = pd.read_excel(\"CANALIZADOR MADRE.xlsx\")\n",
    "        canalizador_reducidoProvincia = canalizadorProvincia[[\"CP Destino\", \"Provincia\"]]\n",
    "\n",
    "        #elimina la columna distrito destino original para luego reemplazarla por el merge-\n",
    "        df = df.drop(columns=[\"Provincia\"], errors=\"ignore\")\n",
    "        merge = pd.merge(df, canalizador_reducidoProvincia, on=\"CP Destino\", how=\"left\")\n",
    "\n",
    "        # Insertar \"Provincia\" después de \"Poblacion\"\n",
    "        columna_referencia = \"Población\"\n",
    "        if columna_referencia in merge.columns:\n",
    "            indice_destino = merge.columns.get_loc(columna_referencia) + 1\n",
    "            columna_valores = merge.pop(\"Provincia\")\n",
    "            merge.insert(indice_destino, \"Provincia\", columna_valores)\n",
    "        else:\n",
    "            print(f\"Advertencia: no se encontró la columna '{columna_referencia}' para ubicar 'Provincia'. Se dejó al final.\")\n",
    "        return merge"
   ]
  },
  {
   "cell_type": "code",
   "execution_count": 148,
   "id": "8b52639a",
   "metadata": {},
   "outputs": [],
   "source": [
    "def main():\n",
    "    while True:\n",
    "        iata = input(\"Ingresa el codigo IATA: \").upper()\n",
    "        if len(iata) == 3:\n",
    "            break\n",
    "        else:\n",
    "            print(\"Error. Intente nuevamente.\")\n",
    "\n",
    "    lista1 = [\"CRD\", \"LUQ\"]\n",
    "    if iata in lista1:\n",
    "        encontrar = glob.glob(\"*xlsx\")\n",
    "        lista = []\n",
    "\n",
    "        for archivo in encontrar:\n",
    "            if archivo == \"CANALIZADOR MADRE.xlsx\":\n",
    "                continue  # saltea el canalizador\n",
    "            leer = pd.read_excel(archivo)\n",
    "            lista.append(leer)\n",
    "\n",
    "        df = pd.concat(lista, ignore_index=True)\n",
    "        df = manipularDatos(df, iata)\n",
    "        df = orgCourier(df, iata, lista1)\n",
    "        df = canalizadorLocalidad(df, iata)\n",
    "        df = canalizadorProvincia(df,iata)\n",
    "\n",
    "        # Guardar y abrir\n",
    "        nombre_salida = f\"archivoUnificado{iata}.xlsx\"\n",
    "        df.to_excel(nombre_salida, index=False)\n",
    "        os.startfile(nombre_salida)\n",
    "\n",
    "if __name__ == \"__main__\": \n",
    "    main()\n"
   ]
  }
 ],
 "metadata": {
  "kernelspec": {
   "display_name": "Python 3",
   "language": "python",
   "name": "python3"
  },
  "language_info": {
   "codemirror_mode": {
    "name": "ipython",
    "version": 3
   },
   "file_extension": ".py",
   "mimetype": "text/x-python",
   "name": "python",
   "nbconvert_exporter": "python",
   "pygments_lexer": "ipython3",
   "version": "3.13.2"
  }
 },
 "nbformat": 4,
 "nbformat_minor": 5
}
